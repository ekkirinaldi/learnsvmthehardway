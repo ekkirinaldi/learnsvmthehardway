{
 "cells": [
  {
   "cell_type": "markdown",
   "metadata": {},
   "source": [
    "<h1>SVM Explained Mathematically by Ekki Rinaldi</h1>\n",
    "<p>Diambil dari buku \"Support Vector Machine Succinctly\" oleh Alexandre KOWALCZYK</p>"
   ]
  },
  {
   "cell_type": "markdown",
   "metadata": {},
   "source": [
    "<h2>1. Vektor</h2>\n",
    "<p>Vektor adalah besaran yang memiliki besaran dan arah. Ditunjukkan pada gambar 1.1</p>\n",
    "\n",
    "<img src=\"explainingsvm_images/vector1.png\">\n",
    "<p><center> **Gambar 1.1** </center> </p>\n",
    "\n",
    "<p>Pada gambar 1.1, titik A berada pada koordinat (4,3) dapat gitulis sebagai:</p>\n",
    "<img src=\"explainingsvm_images/vector1.2.png\" width=100px>\n",
    "<p>Vektor tersebut juga dapat disebut dengan variabel lain, misalkan **a**,</p>\n",
    "<img src=\"explainingsvm_images/vector1.3.png\" width=90px>\n",
    "<p> Seperti yang dijelaskan diawal bahwa vektor memiliki besaran dan arah, artinya adalah:</p>\n",
    "* Vektor memiliki panjang\n",
    "* Sudut yang menentukan arah vektor\n",
    "\n",
    "<h3>Menghitung besaran vektor</h3>\n",
    "<p>Panjang dari sebuah vektor **x** ditulis sebagai **||x||** dan disebut sebagai **norm**\n",
    "<img src=\"explainingsvm_images/vector1.4.png\">\n",
    "<p><center> **Gambar 1.2** Besaran vektor OA adalah panjang dari vektor tersebut </center> </p>\n",
    "<p>Besaran ||OA|| dari vektor dapat dihitung dengan teorema pitagoras: </p>\n",
    "<img src=\"explainingsvm_images/vector1.7.png\">\n",
    "<p>Secara umum, norm dari sebuah vektor dapat dirumuskan sbeagai berikut:\n",
    "<img src=\"explainingsvm_images/vector1.8.png\" width=200px>"
   ]
  },
  {
   "cell_type": "markdown",
   "metadata": {},
   "source": [
    "<h3>Menghitung arah vektor</h3>\n",
    "<p>Arah merupkana komponen kedua dari sebuah vektor. Singkatnya, arah merupakan vektor baru yang dihasilkan oleh koordinat awal dibagi dengan norm-nya</p>\n",
    "<p>Arah dari sebuah vektor **u** = (*u*<sub>1</sub>,*u*<sub>2</sub>)\n",
    "<img src=\"explainingsvm_images/vector1.9.png\" width=150px>\n",
    "<p>Gambar 1.3 menunjukkan vektor **u** yang terdiri dari sudut alpha terhadap garis vertikal dan theta terhadap garis horizontal.</p>\n",
    "<img src=\"explainingsvm_images/vector1.10.png\">\n",
    "<p><center> **Gambar 1.3** Vektor **u** dan sudut yang menentukan arahnya </center> </p>\n",
    "<p>Dengan menggunakan rumus geometri, dapat disimpulkan bahwa **w** :</p>\n",
    "<img src=\"explainingsvm_images/vector1.11.png\" width=250px>\n",
    "<p>Koordinat **w** ditentukan dari nilai cosine, sehingga apabila salah satu nilai cosine berubah, maka nilai arah dari vektor **u** akan berubah, begitu juga dengan nilai **w**</p>\n",
    "<p>Dimensi dari sebuah vektor bisa lebih dari dua dimensi, misalnya **u**= (5,4,7) merupakan vektor tiga dimensi.</p>"
   ]
  },
  {
   "cell_type": "markdown",
   "metadata": {},
   "source": [
    "<h3>Dot Product</h3>\n",
    "<p>Dot proudct dihasilkan oleh operasi dua vektor yang menghasilkan nilai skalar, sehingga dot product sering uga disebut sebagai *scalar product*. Ada dua tipe penjelasan mengenai dot product, yaitu secra geometris dan aljabar</p>"
   ]
  },
  {
   "cell_type": "markdown",
   "metadata": {},
   "source": [
    "<h3>Dot Product (Geometris)</h3>\n",
    "<p>Secara geometris, dot product adalah hasil besaran Euclidean dari dua vektor dan sudut cosine diantara keduanya.</p>\n",
    "<img src=\"explainingsvm_images/vector1.12.png\">\n",
    "<p><center> **Gambar 1.4** Dua vektor **x** dan **y**</center> </p>\n",
    "<p>Pada gambar 1.4, terdapat vektor **x** dan **y** dengan sudut θ, maka dot productnya adalah:</p>\n",
    "<img src=\"explainingsvm_images/vector1.13.png\" width=200px>\n",
    "<p>Dengan melihat rumus diatas, maka dapat disimpulkan bahwa:</p>\n",
    "<ul>\n",
    "    <li>Ketika θ = 0  , maka *cos(θ)* = 1  dan **x.y** = ||x|| ||y||</li>\n",
    "    <li>Ketika θ = 90 , maka *cos(θ)* = 0  dan **x.y** = 0</li>\n",
    "    <li>Ketika θ = 180, maka *cos(θ)* = -1 dan **x.y** = - ||x|| ||y||</li>\n",
    "</ul>\n",
    "<p>Dot product dengan perhitungan geometris diimplmentasikan pada python dengan code dibawah</p>"
   ]
  },
  {
   "cell_type": "code",
   "execution_count": 5,
   "metadata": {},
   "outputs": [
    {
     "name": "stdout",
     "output_type": "stream",
     "text": [
      "34.00000000000001\n"
     ]
    }
   ],
   "source": [
    "import math\n",
    "import numpy as np\n",
    "\n",
    "def geometric_dot_product(x,y, theta):\n",
    "    x_norm = np.linalg.norm(x)\n",
    "    y_norm = np.linalg.norm(y)\n",
    "    return x_norm * y_norm * math.cos(math.radians(theta))\n",
    "\n",
    "theta = 45\n",
    "x = [3,5]\n",
    "y = [8,2]\n",
    "print(geometric_dot_product(x,y,theta))"
   ]
  },
  {
   "cell_type": "markdown",
   "metadata": {},
   "source": [
    "<h3>Dot Product (Aljabar)</h3>\n",
    "<img src=\"explainingsvm_images/vector1.14.png\">\n",
    "<p><center> **Gambar 1.5** Penggunaan tiga sudut membuat perhitungan dot product lebih sederhana</center></p>\n",
    "<p>Pada gambar 1.5, dapat dilihat hubungan antara tiga sudut β, α, dan θ:</p>\n",
    "<img src=\"explainingsvm_images/vector1.15.png\" width=100px>\n",
    "<p>Ini berarti menghitung *cos(θ)* sama dengan menghitung *cos(β - α)*. Oleh karena itu untuk mendapatkan nilai cosine dapat dilakukan dengan rumus:</p>\n",
    "<img src=\"explainingsvm_images/vector1.16.png\" width=400px>\n",
    "<p>Jika kedua sis dikalikan dengan ||x|| ||y||, maka:</p>\n",
    "<img src=\"explainingsvm_images/vector1.17.png\" width=300px>\n",
    "<p>Sudah diketahui bahwa:</p>\n",
    "<img src=\"explainingsvm_images/vector1.18.png\" width=200px>\n",
    "<p>Sehingga:</p>\n",
    "<img src=\"explainingsvm_images/vector1.19.png\" width=150px>\n",
    "<p>Atau</p>\n",
    "<img src=\"explainingsvm_images/vector1.20.png\" width=150px>\n",
    "<p>Secara umum, untuk n-dimensional vektor:</p>\n",
    "<img src=\"explainingsvm_images/vector1.21.png\" width=150px>\n",
    "<p>Implementasi dot product secara aljabar pada python adalah sebagai berikut:</p>"
   ]
  },
  {
   "cell_type": "code",
   "execution_count": 7,
   "metadata": {},
   "outputs": [
    {
     "name": "stdout",
     "output_type": "stream",
     "text": [
      "34\n"
     ]
    }
   ],
   "source": [
    "def dot_product(x,y):\n",
    "    result = 0\n",
    "    for i in range(len(x)):\n",
    "        result = result + x[i]*y[i]\n",
    "    return result\n",
    "\n",
    "x = [3,5]\n",
    "y = [8,2]\n",
    "print(dot_product(x,y))"
   ]
  },
  {
   "cell_type": "markdown",
   "metadata": {},
   "source": [
    "<h2>2. Linear Separability</h2>\n",
    "<h3>Menggunakan kadar alkohol untuk mengklasifikasi wine</h3>\n",
    "<p>Terdapat dua jenis wine, wine murah dan wine mahal. Kedua jenis wine diambil beberapa botol sampel, dicatat, dan diukur kadar alkoholnya</p>\n",
    "<img src=\"explainingsvm_images/vector2.1.png\">\n",
    "<p><center> **Gambar 2.1** Sampel beberapa botol pada dua jenis wine berdasarkan kadar alkoholnya.</center></p>\n",
    "<p>Dapat dilihat bahwa anggur mahal memiliki kadar alkohol yang lebih sedikit. Dapat dilihat jelas bahwa semua titik-titik tersebut berkelompok menjadi dua grup, hal ini disebut dengan **linearly separable**. Jika kadar alkohol kurang dari 13% dapat dikatakan wine tersebut termasuk golongan wine mahal, dan juga sebaliknya.</p>\n",
    "<p>Namun pada kenyataannya, jarang terjadi data yang benar-benar terpisah secara linear. Contoh data yang nonlinear ditunjukkan pada gambar 6.</p>\n",
    "\n",
    "<img src=\"explainingsvm_images/vector2.2.png\">\n",
    "<p><center> **Gambar 2.2** Sampel wine di dunia nyata.</center></p>\n",
    "<p>Untuk menyelesaikan permasalahan ini, salah satu caranya adalah menambahkan dimensi atau parameter seperti kadar keasaman, warna, dan massa jenis. Pemisah bagi kedua kelas memiliki bentuk yang berbeda-beda bergantung pada dimensi data yang ada:</p>\n",
    "<ul>\n",
    "    <li>Berbentuk titik pada satu dimensi **(Gambar 2.1)**</li>\n",
    "    <li>Berbentuk garis pada dua dimensi **(Gambar 2.3)** </li>\n",
    "    <li>Berbentuk bidang pada tiga dimensi **(Gambar 2.3)** </li>\n",
    "</ul>\n",
    "<img src=\"explainingsvm_images/vector2.3.png\">\n",
    "<p><center> **Gambar 2.3** Sampel data linear dua dimensi dan tiga dimensi.</center></p>\n",
    "<p>Data nonlinear juga bisa terjadi pada data multidimensi, contohnya ada pada gambar 2.4. Untuk dapat memisahkan data tersebut, perlu pendekatan khusus pada classifiernya.</p>\n",
    "\n",
    "<img src=\"explainingsvm_images/vector2.4.png\">\n",
    "<p><center> **Gambar 2.4** Sampel data nonlinear dua dimensi dan tiga dimensi.</center></p>"
   ]
  },
  {
   "cell_type": "markdown",
   "metadata": {},
   "source": [
    "<h2>3. Hyperplanes</h2>\n",
    "<p>Hyperplane digunakan untuk memisahkan data yang terdiri lebih dari tiga dimensi.</p>\n",
    "<p>Pada matematika dasar, terdapat rumus *y = ax + b* untuk menentukan garis lurus dengan *a* sebagai *slope* dan *b* sebagai nilai awal *y*. Pada rumus ini, digunakan dua variabel yaitu *x* dan *y*.</p>\n",
    "<p>Jika variabel tersebut diganti dengan *x<sub>1</sub>* dan *x<sub>2</sub>*, maka persamaan akan menjadi: *x<sub>2</sub>* = *ax<sub>1</sub> + *b* atau sama dengan *ax<sub>1</sub> + *b* - *x<sub>2</sub>* = 0. </p>\n",
    "<p>Persamaan ini bila digunakan pada vektor dua dimensi dengan **x**=(*x<sub>1</sub>*,*x<sub>2</sub>*) dan **w** = (*a*, -1), kita akan mendapatkan persamaan baru (*w.x* adalah dot product dari *w* dan *x*):\n",
    "<img src=\"explainingsvm_images/vector2.5.png\" width=150/>\n",
    "<p>Dari persamaan diatas, dapat disimpulkan bahwa hyperplane adalah sekumpulan titik (set of points) yang memenuhi persamaan **w.x** + *b* = 0</p>\n",
    "\n",
    "<h3>Memahami Hyperplane</h3>\n",
    "<p>Diberikan **w** = (*w*<sub>0</sub>,*w*<sub>1</sub>), **x** = (*x*,*y*) dan b, kita bisa menggunakan persamaan hyperplane:\n",
    "<img src=\"explainingsvm_images/vector2.5.png\" width=150/>\n",
    "<p>Ini sama dengan:</p>\n",
    "<img src=\"explainingsvm_images/vector2.6.png\" width=150/>\n",
    "<p>Dibagi dengan *w*<sub>1</sub> maka:</p>\n",
    "<img src=\"explainingsvm_images/vector2.7.png\" width=150/>\n",
    "<p>Jika diganti dengan variabel *a* dan *c*:</p>\n",
    "<img src=\"explainingsvm_images/vector2.8.png\" width=200/>\n",
    "<p>Sehingga kesimpulannya adalah bias *c* akan sama dengan *b* bila *w*<sub>1</sub> = -1, dan apabila *w*<sub>0</sub> dan *w*<sub>1</sub> memiliki simbol yang sama, maka slope *a* akan negatif.</p>\n",
    "\n",
    "<h3>Klasifikasi menggunakan Hyperplane</h3>\n",
    "<img src=\"explainingsvm_images/vector2.9.png\"/>\n",
    "<p><center> **Gambar 3.1** Sampel data linear dua dimensi.</center></p>\n",
    "<p>Pada gambar diatas, data yang terdiri dari dua kelas terpisah secara linear. Sebagai contoh, apabila kita menggunakan vektor **w**=(0.4, 1.0) dan *b*=-9 maka akan didapat hyperlane sebagai berikut:</p>\n",
    "<img src=\"explainingsvm_images/vector2.10.png\"/>\n",
    "<p><center> **Gambar 3.2** Contoh hyperplane pada data dua dimensi.</center></p>\n",
    "<p>Kita hubungkan setiap vektor **x**<sub>i</sub> dengan label *y*<sub>i</sub> yang memiliki nilai -1 atau +1 sehingga fungsi *h*:</p>\n",
    "<img src=\"explainingsvm_images/vector2.11.png\" width=300px/>\n",
    "\n",
    "<p>Sebagai contoh, untuk **x** = (8,7) bila dihitung maka **w.x** + *b*=0.4 x 8 + 1 x 7 - 9 = 1.2, yang berarti positif sehingga **x** berada diatas hyperlane dan memiliki kelas *h*(**x**)= +1</p>\n",
    "\n",
    "<p>Contoh lain, untuk **x** = (1,3) bila dihitung maka **w.x** + *b*=0.4 x 1 + 1 x 3 - 9 = -5.6, yang berarti negatif sehingga **x** berada dibawah hyperlane dan memiliki kelas *h*(**x**)= -1</p>\n",
    "\n",
    "<p>Karena hyperplane yang digunakan menggunakan rumus linear, maka fungsi *h* dapat disebut sebagai klasifikasi linear (linear classification)</p>\n",
    "\n",
    "<p>Rumus dari *h* dapat disederhanakan lagi dengan menghilangkan konstanta *b* dan menambahkan *x*<sub>0</sub>=1 pada vektor **x**<sub>i</sub> yang nantinya disebut sebagai **x^**<sub>i</sub> (*x*<sub>i</sub> hat). Kemudian menambahkan **w**<sub>0</sub>=b pada vektor **w**<sub>i</sub> yang nantinya disebut sebagai **w^**<sub>i</sub> (*w*<sub>i</sub> hat). Kedua vektor modifikasi ini dikenal sebagai **augmented vector**</p>\n",
    "\n",
    "<p>Dengan menggunakan *augmented vector*, fungsi hipotesis berubah menjadi</p>\n",
    "<img src=\"explainingsvm_images/vector2.13.png\" width=175px/>\n",
    "\n",
    "<h3>Memahami cara membentuk hyperplane</h3>\n",
    "<p>Perlu diingat bahwa satu-satunya nilai yang dapat merubah bentuk dari hyperplane adalah **w**. Pada kasus dua dimensi kita menggunakan tiga dimensi *augmented vector* sehingga didapat **x** = (*x*<sub>0</sub>,*x*<sub>1</sub>,*x*<sub>2</sub>) dan **w**=(*b*,*a*,-1). Dapat dilihat bahwa vektor **w** memiliki *b* dan *a* yang menjadi dua komponen utama penentu bentukan hyperlane. Dengan mengubah nilai **w**, maka bentuk hyperplane akan berubah.</p>\n",
    "<img src=\"explainingsvm_images/vector2.12.png\"/>\n",
    "<p><center> **Gambar 3.3** Berbagai bentuk hyperplane yang pengaruhi oleh nilai **w**.</center></p>"
   ]
  },
  {
   "cell_type": "markdown",
   "metadata": {},
   "source": [
    "<h3>Perceptron Learning Algorithm</h3>\n",
    "<p>Diberikan data training *D* dengan m,n dimensi (**x**<sub>i</sub>,*y*<sub>i</sub>), **Perceptron Learning Algorithm** (PLA) berusaha mencari *h* sehingga dapat memprediksi label *y*<sub>i</sub> di setiap **x**<sub>i</sub> dengan benar.</p>\n",
    "\n",
    "<p>Cara kerja PLA cukup sederhana:</p>\n",
    "<ol>\n",
    "    <li>Dimulai dengan sebuah hyperplane random (didefinisikan dengan vektor **w**) dan digunakan untuk mengklasifikasi data</li>\n",
    "    <li>Ambil contoh yang salah diklasifikasikan dan pilih hyperplane lain dengan memperbarui nilai **w** (disebut **update rule**)</li>\n",
    "    <li>Klasifikasikan data dengan hyperplane baru</li>\n",
    "    <li>Ulangi langkah 2 dan 3 hingga tidak ada \"missclassified\"</li>\n",
    "</ol>"
   ]
  },
  {
   "cell_type": "code",
   "execution_count": 77,
   "metadata": {},
   "outputs": [],
   "source": [
    "import numpy as np\n",
    "def perceptron_learning_algorithm(X, y):\n",
    "    w = np.random.rand(3)\n",
    "    misclassified_examples = predict(hypothesis, X, y, w)\n",
    "    \n",
    "    while misclassified_examples.any():\n",
    "        x, expected_y = pick_one_from(misclassified_examples, X, y)\n",
    "        w = w + x * expected_y # update rule\n",
    "        misclassified_examples = predict(hypothesis, X, y, w)\n",
    "    return w"
   ]
  },
  {
   "cell_type": "markdown",
   "metadata": {},
   "source": [
    "<p>*perceptron_learning_algorithm* menggunakan beberapa fungsi. Fungsi *hypothesis* adalah *h(**x**)* yang mengembalikan nilai *y<sub>i</sub>* untuk setiap sampel **x**<sub>i</sub>. Fungsi *predict* digunakan untuk memprediksi setiap **x**<sub>i</sub> dan mengembalikan prediksi yang salah.</p>"
   ]
  },
  {
   "cell_type": "code",
   "execution_count": 11,
   "metadata": {},
   "outputs": [],
   "source": [
    "def hypothesis(x, w):\n",
    "    return np.sign(np.dot(w, x)) \n",
    "\n",
    "#Membuat prediksi terhadap semua data training dan mengembalikan yang salah.\n",
    "def predict(hypothesis_function, X, y, w):\n",
    "    predictions = np.apply_along_axis(hypothesis_function, 1, X, w)\n",
    "    misclassified = X[y != predictions]\n",
    "    return misclassified"
   ]
  },
  {
   "cell_type": "markdown",
   "metadata": {},
   "source": [
    "<p>Setelah membuat prediksi dengan menggunakan fungsi *predict*, pilih salah satu data yang salah dengan menggunakan *pick_one_from* secara random.</p>"
   ]
  },
  {
   "cell_type": "code",
   "execution_count": 13,
   "metadata": {},
   "outputs": [],
   "source": [
    "def pick_one_from(misclassified_examples, X, y):\n",
    "    np.random.shuffle(misclassified_examples)\n",
    "    x = misclassified_examples[0]\n",
    "    index = np.where(np.all(X == x, axis=1))\n",
    "    return x, y[index]"
   ]
  },
  {
   "cell_type": "markdown",
   "metadata": {},
   "source": [
    "<p>Kode dibawah merupakan contoh dalam menggunakan *perceptron_learning_algorithm* function dengan data *dummy*.</p>"
   ]
  },
  {
   "cell_type": "code",
   "execution_count": 173,
   "metadata": {},
   "outputs": [
    {
     "name": "stdout",
     "output_type": "stream",
     "text": [
      "[-12.57757234   0.41162949   1.54891726]\n"
     ]
    }
   ],
   "source": [
    "X = np.array([[8, 7], [4, 10], [9, 7], [7, 10], [9, 6], [4, 8], [10, 10],[2, 7], [8, 3], [7, 5], [4, 4], [4, 6], [1, 3], [2, 5]])\n",
    "y = np.array([ 1,  1,  1,  1,  1,  1,  1, -1, -1, -1, -1, -1, -1, -1])\n",
    "# transform X into an array of augmented vectors.\n",
    "X_augmented = np.c_[np.ones(X.shape[0]), X]\n",
    "w = perceptron_learning_algorithm(X_augmented, y)\n",
    "print(w)"
   ]
  },
  {
   "cell_type": "code",
   "execution_count": 178,
   "metadata": {},
   "outputs": [
    {
     "data": {
      "image/png": "[encoded data removed]",
      "text/plain": [
       "<Figure size 432x288 with 1 Axes>"
      ]
     },
     "metadata": {},
     "output_type": "display_data"
    }
   ],
   "source": [
    "import matplotlib.pyplot as plt\n",
    "import numpy as np\n",
    "\n",
    "x = np.linspace(0,10,100)\n",
    "y = -(w[1]*x+w[0])/w[2]\n",
    "\n",
    "fig,ax = plt.subplots()\n",
    "ax.plot([i[0] for i in X[:7]], [i[1] for i in X[:7]],'bs', [i[0] for i in X[7:]],\n",
    "        [i[1] for i in X[7:]],'ro', x,y)\n",
    "ax.axis([0,11,0,11])\n",
    "ax.set_xlim((0.,10.5))\n",
    "ax.set_ylim((0.,10.5))\n",
    "\n",
    "plt.show()"
   ]
  },
  {
   "cell_type": "markdown",
   "metadata": {},
   "source": [
    "<h3>Menghitung margin Hyperplane</h3>\n",
    "<p>Pada gambar dibawah, terdapat dua kelas data yang dipisah oleh hyperplane</p>\n",
    "<img src=\"explainingsvm_images/vector2.14.png\"/>\n",
    "<p>Dapat dilihat persamaan dari hyperplane adalah x<sub>2</sub>=−2x<sub>1</sub> atau sama dengan **w**<sup>T</sup>=0 dengan w(2,1) dan **x** (*x*<sup>1</sup>,*x*<sup>2</sup>)</p>\n",
    "<p>Kita akan menghitung jarak titik A terhadap hyperplane, gambar dibawah menunjukkan proyeksi titik A terhadap hyperplane</p>\n",
    "<img src=\"explainingsvm_images/vector2.15.png\"/>\n",
    "<p>Kita bisa melihat titik A terhadap **w**</p>\n",
    "<img src=\"explainingsvm_images/vector2.16.png\"/>\n",
    "<p>Kita mendapatkan vektor P</p>\n",
    "<img src=\"explainingsvm_images/vector2.17.png\"/>\n",
    "<p>Untuk menghitung jarak A terhadap hyperplane, kita mulai dari **w**=(2,1) dan **a**=(3,4) yang merupakan vektor dari A</p>\n",
    "<img src=\"explainingsvm_images/vector2.18.png\"/>\n",
    "<p>Membuat vektor **u** sebagai arah dari **w**</p>\n",
    "<img src=\"explainingsvm_images/vector2.19.png\"/>\n",
    "<p>**p** adalah proyeksi ortogonal **a** terhadap **w**, sehingga</p>\n",
    "<img src=\"explainingsvm_images/vector2.20.png\"/>\n",
    "<p>Dengan mendapatkan nilai ||p|| antara A dengan Hyperplane, maka margin dapat dihitung dengan:</p>\n",
    "<img src=\"explainingsvm_images/vector2.21.png\"/>"
   ]
  },
  {
   "cell_type": "markdown",
   "metadata": {},
   "source": [
    "<h3>Menghitung margin Hyperplane</h3>\n",
    "<p>Perhatikan gambar dibawah, pada perhitungan sebelumnya kita telah mendapatkan margin M<sub>1</sub> dari hyperplane terhadap titik A.</p>\n",
    "<img src=\"explainingsvm_images/vector2.22.png\"/>\n",
    "    \n",
    "<p>Namun hyperplane ini masih kurang tepat, ada hyperplane dengan margin yang lebih besar, ditunjukkan oleh M<sub>2</sub></p>\n",
    "<img src=\"explainingsvm_images/vector2.23.png\"/>\n",
    "\n",
    "<p>Cara menemukan margin terbesar dapat dilakukan dengan dua tahapan:</p>\n",
    "<ol>\n",
    "    <li>Dari sebuah dataset, cari dua hyperplane yang memisahkan data tanpa ada titik di dalamnya</li>\n",
    "    <li>Maksimalkan jarak kedua hyperplane(margin)</li>\n",
    "</ol>\n",
    "\n",
    "<h3>Tahap pertama: Mencari hyperplane(s)</h3>\n",
    "<p>Diberikan hyperplane H<sub>0</sub> yang memmisahkan data dan memenuhi **w⋅x**+b=0, selanjutnya kita dapat memilih dua hyperplane lain yang memenuhi persamaan</p>\n",
    "<img src=\"explainingsvm_images/vector2.24.png\"/>\n",
    "<p>dan</p>\n",
    "<img src=\"explainingsvm_images/vector2.25.png\"/>\n",
    "<p>Sekarang kita akan memilih hyperplane yang memenuhi dua **constraint**.</p>\n",
    "<p>Untuk setiap vektor **x**<sub>i</sub>, memenuhi antara:</p>\n",
    "<h4>**w⋅x**<sub>i</sub>+b ≥ 1 untuk **x**<sub>i</sub> yang memiliki kelas 1</h4>\n",
    "<p>atau</p>\n",
    "<h4>**w⋅x**<sub>i</sub>+b ≤ -1 untuk **x**<sub>i</sub> yang memiliki kelas -1</h4>\n",
    "<p>Berikut contoh hyperplane dan penerapan constraint</p>\n",
    "<img src=\"explainingsvm_images/vector2.26.png\"/>\n",
    "<img src=\"explainingsvm_images/vector2.27.png\"/>\n",
    "<img src=\"explainingsvm_images/vector2.28.png\"/>\n",
    "<img src=\"explainingsvm_images/vector2.29.png\"/>\n",
    "<img src=\"explainingsvm_images/vector2.30.png\"/>\n"
   ]
  },
  {
   "cell_type": "markdown",
   "metadata": {},
   "source": [
    "<h3>Tahap kedua: Memaksimalkan jarak antara hyperplane</h3>\n",
    "<p>Untuk dapat memaksimalkan jarak antar hyperplane ada beberapa hal yang diperlukan</p>\n",
    "<ol>\n",
    "    <li>H<sub>0</sub> adalah hyperplane dengan persamaan **w⋅x**+b = −1</li>\n",
    "    <li>H<sub>1</sub> adalah hyperplane dengan persamaan **w⋅x**+b = 1</li>\n",
    "    <li>x<sub>0</sub> adalah titik in the hyperplane H0.</li>\n",
    "</ol>\n",
    "<img src=\"explainingsvm_images/vector3.1.png\"/>\n",
    "<p>Untuk mencari jarak antara dua hyperplane, dapat digunakan rumus sebagai berikut:</p>\n",
    "<img src=\"explainingsvm_images/vector3.2.png\"/>\n",
    "<p>Berdasarkan rumus diatas, dapat disimpulkan bahwa semakin besar **w** (norm), maka margin akan semakin kecil. Sehingga memaksimalkan margin, sama halnya dengan mengecilkan **w**</p>\n",
    "<p>Untuk materi selengkapnya dapat dilihat di <a href=\"https://www.svm-tutorial.com/2015/06/svm-understanding-math-part-3/\">link</a></p>\n",
    "<p>To be explained</p>\n",
    "<ol>\n",
    "    <li>Kernel Trick</li>\n",
    "    <li>Multiclass Classification</li>\n",
    "</ol>"
   ]
  }
 ],
 "metadata": {
  "kernelspec": {
   "display_name": "Python 3",
   "language": "python",
   "name": "python3"
  },
  "language_info": {
   "codemirror_mode": {
    "name": "ipython",
    "version": 3
   },
   "file_extension": ".py",
   "mimetype": "text/x-python",
   "name": "python",
   "nbconvert_exporter": "python",
   "pygments_lexer": "ipython3",
   "version": "3.6.4"
  }
 },
 "nbformat": 4,
 "nbformat_minor": 2
}
